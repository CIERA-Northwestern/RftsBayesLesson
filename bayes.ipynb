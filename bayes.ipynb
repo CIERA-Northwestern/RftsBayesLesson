{
 "cells": [
  {
   "cell_type": "markdown",
   "metadata": {},
   "source": [
    "# Frequentist vs. Bayesian Statistics"
   ]
  },
  {
   "cell_type": "markdown",
   "metadata": {},
   "source": [
    "### To run a cell hit Shift+Return"
   ]
  },
  {
   "cell_type": "code",
   "execution_count": null,
   "metadata": {},
   "outputs": [],
   "source": [
    "print('You have run this cell with Shift + Return!')"
   ]
  },
  {
   "cell_type": "markdown",
   "metadata": {},
   "source": [
    "### Load Necessary Modules"
   ]
  },
  {
   "cell_type": "code",
   "execution_count": null,
   "metadata": {},
   "outputs": [],
   "source": [
    "from source import *"
   ]
  },
  {
   "cell_type": "markdown",
   "metadata": {},
   "source": [
    "## Flipping A Coin"
   ]
  },
  {
   "cell_type": "markdown",
   "metadata": {},
   "source": [
    "What is the probability of getting heads when flipping a coin? Most would say 50%. \n",
    "Maybe a better question to ask is what is the probability that a given coin is fair, meaning the true probability of getting heads is actually 50%? While it may seem like 100%, it is not. \n",
    "\n",
    "The goal here is we want to make statistical statements about how fair a coin is, and what its probability is of getting heads. In science, and in life, we cannot assume it is 50%. We need to test it. "
   ]
  },
  {
   "cell_type": "markdown",
   "metadata": {},
   "source": [
    "### Frequentist Statistics"
   ]
  },
  {
   "cell_type": "markdown",
   "metadata": {},
   "source": [
    "Frequentist statistics states that no prior information is taken into consideration. The experiment is performed and then a hypothesis is tested based on those results. \n",
    "\n",
    "For example, from a statistical standpoint, what is the probability we get heads when flipping a coin?\n",
    "\n",
    "A frequentist would say me must flip the coin infinitely many times. Then, we divide the number of heads by the total amount of flips and that would tell you the probability of getting heads with that coin. However, we cannot flip a coin infinitely many times. Therefore, we flip it as many times as we see fit. \n",
    "\n",
    "If we flip a coin 100 times and get 42 heads and 58 tails, we would say that, from a frequentist point of view, the coin has a 42% chance of being heads. \n",
    "\n",
    "Now, what is the probability that the coin is fair? Well, even though our evidence tells us the coin is not fair because we have a 42% chance of getting heads, that is a limiting sample. How can we include the idea that our number of trials is not infinity. The fact is, even with a 42% chance of getting heads, there is a still a chance the coin is fair and we have just not flipped it enough times. \n",
    "\n",
    "Let's say we want to have 99% confidence if our coin is fair. Without getting into detail, this is equivalent to a Z-value of 2.5759 (probability from a normal distribution 99% confidence). We also need to decide what is considered \"fair.\" Let's say for simplicity that a coin is fair if its probability of heads is between 45% and 55%.\n",
    "\n",
    "Since we have found that we have a 42% of getting heads from our experiment, we want to know what the error is on that measurement. In other words, does this measurement **rule out** 45-55% probability. \n",
    "\n",
    "$E=\\frac{Z}{2\\sqrt{n}}$\n",
    "\n",
    "- $E$ is the error on the measurement\n",
    "- $Z$ is the confidence value (2.5759 in our case)\n",
    "- $n$ is the number of tosses (100)"
   ]
  },
  {
   "cell_type": "code",
   "execution_count": null,
   "metadata": {},
   "outputs": [],
   "source": [
    "n = 100\n",
    "Z = 2.5759\n",
    "\n",
    "E = Z/(2*(n)**(1/2))\n",
    "print('Error:', E)"
   ]
  },
  {
   "cell_type": "markdown",
   "metadata": {},
   "source": [
    "We can say with 99% confidence that our coin might be fair since 42 $\\pm$ 13% lies within our range of 45-55%."
   ]
  },
  {
   "cell_type": "markdown",
   "metadata": {},
   "source": [
    "What if we received 30 heads. We would have the same error because we have the same number of tosses. Our probability of getting heads is now 30% $\\pm$ 13%, meaning that with 99% confidence, we can say the coin **is biasied**. "
   ]
  },
  {
   "cell_type": "markdown",
   "metadata": {},
   "source": [
    "What if we get 4200 heads out of 10000 tosses."
   ]
  },
  {
   "cell_type": "code",
   "execution_count": null,
   "metadata": {},
   "outputs": [],
   "source": [
    "n = 10000\n",
    "Z = 2.5759\n",
    "\n",
    "E = Z/(2*(n)**(1/2))\n",
    "print('Error:', E)"
   ]
  },
  {
   "cell_type": "markdown",
   "metadata": {},
   "source": [
    "In this case our measured probability of getting heads is still 42%. However, with 100 times more trials, we see that our error has dropped to 1.3%. This means that we could say with 99% confidence that the coin is biased. "
   ]
  },
  {
   "cell_type": "markdown",
   "metadata": {},
   "source": [
    "### Bayesian Statistics"
   ]
  },
  {
   "cell_type": "markdown",
   "metadata": {},
   "source": [
    "In Bayesian statistics, we represent the probabilities as distributions. We can also incorporate prior knowledge into our distributions which will be shown below. This is not the case in frequentist statistics. To represent the distribution for the probability of heads, we use a beta distribution. However, we should be using a binomial distribution, but we are using the beta distribution for visual simplicity.\n",
    "\n",
    "Now what happens if we get 42 heads. Similarly to above, we assume a coin is fair if it gives heads at 45%-55%."
   ]
  },
  {
   "cell_type": "code",
   "execution_count": null,
   "metadata": {},
   "outputs": [],
   "source": [
    "h_t = [\n",
    "    [42, 58],\n",
    "    [31, 69],\n",
    "    [4200, 5800]\n",
    "]\n",
    "\n",
    "make_plot(h_t)"
   ]
  },
  {
   "cell_type": "markdown",
   "metadata": {},
   "source": [
    "We see that with 42 Heads, the probability the coin is fair is 27%, so relatively likely. This is great! We can now say with Bayesian statistics what the probability is that the coin is fair. This can be done with frequentist statistics, but requires more math and is not as straight forward. If we have 31 Heads, the probability the coin is fair is 0.2%, so not likely. Now if we increase our trials to 10000, but still get 42% heads, we see the probability has drastically dropped to 7.5$\\times10^{-8}$% that the coin is fair."
   ]
  },
  {
   "cell_type": "markdown",
   "metadata": {},
   "source": [
    "## Other Examples"
   ]
  },
  {
   "cell_type": "code",
   "execution_count": null,
   "metadata": {},
   "outputs": [],
   "source": [
    "h_t = [\n",
    "    [5, 5],\n",
    "    [20, 20],\n",
    "    [100,100],\n",
    "    [40, 60],\n",
    "    [25, 75],\n",
    "    [10, 90],\n",
    "    [60,40],\n",
    "    [75, 25],\n",
    "    [90, 10]\n",
    "]\n",
    "\n",
    "make_plot(h_t)"
   ]
  },
  {
   "cell_type": "markdown",
   "metadata": {},
   "source": [
    "## Posteriors based on actually flipping the coin"
   ]
  },
  {
   "cell_type": "markdown",
   "metadata": {},
   "source": [
    "Here we analyze if a real coin is actually fair. We test the fairness from a frequentist and bayesian point-of-view. We see how the fairness changes based on two things: our prior information and the actual flips of the coin. \n",
    "\n",
    "For the frequentist test, we look at what is called the p-value. This is a measure of how confident we are that the coin is fair. The lower the p-value, the more we believe the coin is fair. Usually, we set a value (0.05 or 0.01) at which you say you trust the results. Notice the frequentist p-value does not matter what our prior knowledge is.\n",
    "\n",
    "For the bayesian test, we see how the probability the coin is fair changes as we make the prior more accurate and/or precise (change prior_standard_deviation). \n",
    "\n",
    "Also, we see how important a prior can be. What happens if we include (purposefully) incorrect prior information (change prior_mean)?\n",
    "\n",
    "What happens as we flip the coin more times?"
   ]
  },
  {
   "cell_type": "code",
   "execution_count": null,
   "metadata": {},
   "outputs": [],
   "source": [
    "prior_mean = 0.5\n",
    "prior_standard_deviation = 0.05\n",
    "\n",
    "h_t = [\n",
    "    [11, 9],\n",
    "    [21, 24],\n",
    "    [100, 85]\n",
    "]\n",
    "\n",
    "make_real_flip_plot(h_t, prior_mean, prior_standard_deviation)"
   ]
  },
  {
   "cell_type": "markdown",
   "metadata": {},
   "source": [
    "## For questions:"
   ]
  },
  {
   "cell_type": "markdown",
   "metadata": {},
   "source": [
    "### Question 1"
   ]
  },
  {
   "cell_type": "code",
   "execution_count": null,
   "metadata": {},
   "outputs": [],
   "source": [
    "Z = 2.5759\n",
    "\n",
    "n = # enter the correct n value\n",
    "\n",
    "E = Z/(2*(n)**(1/2))\n",
    "print('Error:', E)"
   ]
  },
  {
   "cell_type": "markdown",
   "metadata": {},
   "source": [
    "### Question 2"
   ]
  },
  {
   "cell_type": "code",
   "execution_count": null,
   "metadata": {},
   "outputs": [],
   "source": [
    "h_t = [\n",
    "   # enter heads or tails like above: [H, T],\n",
    "]\n",
    "\n",
    "make_plot(h_t)"
   ]
  },
  {
   "cell_type": "markdown",
   "metadata": {},
   "source": [
    "### Question 3"
   ]
  },
  {
   "cell_type": "code",
   "execution_count": null,
   "metadata": {},
   "outputs": [],
   "source": [
    "prior_mean = # enter prior mean\n",
    "prior_standard_deviation = # enter prior standard deviation\n",
    "\n",
    "h_t = [\n",
    "    # enter heads or tails like above: [H, T],\n",
    "]\n",
    "\n",
    "make_real_flip_plot(h_t, prior_mean, prior_standard_deviation)"
   ]
  }
 ],
 "metadata": {
  "kernelspec": {
   "display_name": "Python 3",
   "language": "python",
   "name": "python3"
  },
  "language_info": {
   "codemirror_mode": {
    "name": "ipython",
    "version": 3
   },
   "file_extension": ".py",
   "mimetype": "text/x-python",
   "name": "python",
   "nbconvert_exporter": "python",
   "pygments_lexer": "ipython3",
   "version": "3.7.3"
  }
 },
 "nbformat": 4,
 "nbformat_minor": 2
}
